{
 "cells": [
  {
   "cell_type": "markdown",
   "id": "058cc407",
   "metadata": {},
   "source": [
    "# Training a Naïve Bayes classifier for sentiment analysis of Amazon users’ reviews for refurbished iPhone 7 using specific keywords\n",
    "## Justin Heyer"
   ]
  },
  {
   "cell_type": "code",
   "execution_count": 1,
   "id": "3addf1d4",
   "metadata": {},
   "outputs": [],
   "source": [
    "import pandas as pd\n",
    "from sklearn.feature_extraction.text import CountVectorizer\n",
    "from sklearn.naive_bayes import MultinomialNB"
   ]
  },
  {
   "cell_type": "code",
   "execution_count": 2,
   "id": "8dad65e9",
   "metadata": {},
   "outputs": [],
   "source": [
    "# Raw data\n",
    "pos_train = [\n",
    "    \"I’ve seen a lot of bad reviews for this phone based on issues with the seller. Granted, some of those reviews say it took a few weeks for the problems to appear so I’ll edit this if that happens, but wow was I happy with what I got. Not only did it come with a charger (there’s some debate on that in other reviews), but it even had a clear bumper case. That was neither expected nor necessary but I appreciated it (I bought a Unicorn Beetle case which I have used and loved before on other phones). There wasn’t a scratch on this phone and it started working right away for me. The battery seems to be holding up fine. All in all I’d say this seems like a steal. If it self destructs on me in the next few weeks I’ll update this. UPDATE: It's been a few months and a trip overseas since I wrote that initial review, and it remains a solid decision I'm very happy with.\",\n",
    "    \"This phone looks and performs great like it's brand new. Not one scratch. The phone came with a screen protector and a charger. I was surprised as other reviews said they did not get one. For $269, I feel like this was a steal, compared to other listings. Hopefully nothing goes wrong with the phone later. But with the Amazon 90 day guarantee I'm a little more at ease about possible return. Never bought a refurbished phone before. Not sure what to expect. As far as my order, I am happy with it.\",\n",
    "    \"Don't listen to bad reviews! My phone arrived in great condition. There are no scratches on the glass, and there is no visible wear and tear on the case. It works perfectly. I inserted my carrier-provided SIM card in the SIM tray and it was immediately available on AT&T's network. A SIM tray key was included in the box along with protective plastic covers for the screen. A charging cable and standard outlet plug were also included in the box. This version of the iPhone does not have a headphone jack. I did not receive a headphone insert in the box, but (#1) I don't need one as all of my headphones are Bluetooth and (#2) I don't know if Apple included this in the original packaging so this is just a courtesy note for potential buyers of the iPhone 7, not a complaint. The seller contacted me after I received my phone to make sure I was happy with the purchase and I am.\",\n",
    "    \"Love this phone! I am so glad I bought a refurbished one. I took it to the Apple store just in case to do a diagnostics on it and said that it was refurbished and bought through Amazon, and Apple checked it and said everything is great. Very happy with my purchase.\",\n",
    "    \"First, seller did a great job and I think I got a good price for an iPhone 7, I just think ALL CELL PHONES are way way way too expensive. When a Cell phone costs more than a good laptop computer that is too expensive. Second all Smart phones have bad battery life. Apple's iPhones are no exception. There is a mode on the iPhone 7 to allow for an extended battery life setting. But I see no difference between the extended setting and the normal setting. I do not use my phone except for emergencies so I would expect the phone to last 5-6 days between charging, but I am averaging 3-4 days between charging. I am having an issue that the WiFi doesn't see both of my wireless networks (dual band router). Seller tried to help but Apple's support said if it sees a network that's all they care about. Phone appears to be working fine and so far I am happy with it.\",\n",
    "    \"Received prompt delivery of the phone. I inserted my 'sim card' and the phone was functional with no issues and I could make and receive calls right away, so far so good. I received the phone which is cosmetically in very good condition and I am quite happy with my purchase with exception of two minor issues which I believe someone could provide me guidance to resolve or trouble shoot.\"\n",
    "]\n",
    "\n",
    "neg_train = [\n",
    "    \"Overall, the phone isn't too bad for the price. It came already scratched up, overheats more than a normal iPhone (I've had tons of iPhones). The delivery process of just getting the phone was pretty stressful, I'm a month and half in using the iPhone and I called customer service to see if they could replace my iphone because it got to the point where my hands feel the burning from the phone... the lady was so unhelpful, bland and kind of rude. The return proccess would be such a hassle and leave me phoneless so I decided to keep the phone instead. All the functions work fine, it's just that the iphone started heating up the moment I got it. I don't usually write reviews no matter how good or bad a product is, but I've never received such bad service from a company, especially amazon sellers. I'm basically stuck with the phone, or be phoneless. I would recommend the phone, but just know there will definitely some things you need to deal with. HAVE A NICE DAY TO WHOEVER IS READING :)\", \n",
    "    \"The iPhone 7 I purchased was \\\"certified refurbished\\\" and labeled as \\\"new\\\" quality but doesn't work. The phone looks great, but when I first turned it on it was in a restart loop. This was a bad sign to begin with, but I gave it the benefit of the doubt and connected it to my computer. When I finally got it to restore to factory settings, the screen started glitching to the point where there was nothing to stop it, and if it did get to the startup screen, it was non-responsive.\", \n",
    "    \"Initially I was happy with the phone. It looked great physically and had no signs of wear and tear. However, the battery health was lower than I wanted; the phone said the battery health was 88%. However, I knew from the ad, that it could ship with as low as 85%, so I can't complain too much about that. The biggest issue with the phone that was an absolute deal breaker was that it frequently crashed and closed apps on me. Other times it would freeze up. Imagine having an emergency and having to make a phone call, only to find out that your phone decided to freeze up?! I have a family, so that's completely unacceptable. The phone also seemed to have connectivity issues and would not connect well with my wifi. It was slower than my other devices on my wifi and would sometimes freeze up. With the problems that I was having, I'm thinking it was a bad main board or \\\"motherboard\\\". The seller was MobileSpree. I contacted them and asked for an exchange. They refused to do an exchange and said my only option was to return it. I returned it with the shipping label provided by Amazon. However, even after 5 days of having the phone back, they would not refund my money. I had to get Amazon involved to get a refund. Overall, don't buy. It was a waste of time and money and a hassle to get refunded.\",\n",
    "    \"Be cautious - if you have ANY issues at all, return phone immediately. We got one for my daughter, paid $244 and it didn’t last 4 months. Seller will not replace/return as it is past 90 days. She had intermittent issues with service connections shortly after receiving the phone. When it finally stopped connecting at all and we had it checked at the AT&T store, they told us it was an internal issue with the SIM card brackets that connects to the mother board. Basically causing a fatal error and cannot get any service connection. I contacted the seller and received the generic “past the 90 day warranty” so there is nothing they will do about it. We may try to have it repaired, but the repair shop is looking at $100 to inspect and possibly repair, if it can be repaired. I guess that’s our expensive mistake, but at least we can warn others.\"\n",
    "]\n",
    "\n",
    "test = [\n",
    "    \"The phone arrived in pretty decent condition. The front screen was scratch-free and the display is great, but there is a long scratch on the back of the phone. This doesn't bother me much because I always have a case on my phone. However, the issue with this phone is that the cellular signal won't work; the device detects the sim but the signal is bad. Apparently this is an issue with some iPhone 7 models, but the any free of charge repair is not valid because the phone is coming from a third party seller. After speaking with Apple, Verizon (my mobile carrier), AND Amazon, I've reached the conclusion that the issue is with the phone. I've tried everything to troubleshoot, but I will unfortunately have to return the item and get another one.\",\n",
    "    \"iPhone 7 Black came in excellent condition. Like new. No scratches or scuffs. Works great. Was happy for couple months until phone started to develop issues with hearing callers and vs versa. Callers can’t hear me and I can’t hear callers, the sound is bad. Checked settings . Disabled WiFi calling. Hard reset phone. Updated iOS. Happens randomly. Suspect possible known defects on iPhone 7 with audio IC chips. I want to return the phone but I’m waiting to se for a month\"\n",
    "]\n",
    "\n",
    "vocab = ['Great', 'Happy', 'Bad', 'Return']"
   ]
  },
  {
   "cell_type": "code",
   "execution_count": 3,
   "id": "d4bdd9ed",
   "metadata": {},
   "outputs": [
    {
     "name": "stdout",
     "output_type": "stream",
     "text": [
      "[[1 0 2 0]\n",
      " [0 1 1 1]\n",
      " [1 1 1 0]\n",
      " [0 1 1 0]\n",
      " [1 1 1 0]\n",
      " [0 0 1 0]]\n"
     ]
    }
   ],
   "source": [
    "# Counting occurences of words in vocab for each string. dtype: scipy.sparse matrix\n",
    "vectorizer = CountVectorizer()\n",
    "vectorizer.fit_transform(vocab) \n",
    "pos_tf = vectorizer.transform(pos_train)\n",
    "neg_tf = vectorizer.transform(neg_train)\n",
    "test_tf = vectorizer.transform(test)\n",
    "\n",
    "# Feature names based on sparse matrix output (same as 'vocab' but different order)\n",
    "desc_features = vectorizer.get_feature_names_out()\n",
    "\n",
    "# Convert scipy.sparse matrices to NumPy arrays\n",
    "pos_tf = pos_tf.toarray()\n",
    "neg_tf = neg_tf.toarray()\n",
    "test_tf = test_tf.toarray()\n",
    "print(pos_tf)"
   ]
  },
  {
   "cell_type": "code",
   "execution_count": 4,
   "id": "03050148",
   "metadata": {},
   "outputs": [
    {
     "data": {
      "text/html": [
       "<div>\n",
       "<style scoped>\n",
       "    .dataframe tbody tr th:only-of-type {\n",
       "        vertical-align: middle;\n",
       "    }\n",
       "\n",
       "    .dataframe tbody tr th {\n",
       "        vertical-align: top;\n",
       "    }\n",
       "\n",
       "    .dataframe thead th {\n",
       "        text-align: right;\n",
       "    }\n",
       "</style>\n",
       "<table border=\"1\" class=\"dataframe\">\n",
       "  <thead>\n",
       "    <tr style=\"text-align: right;\">\n",
       "      <th></th>\n",
       "      <th>bad</th>\n",
       "      <th>great</th>\n",
       "      <th>happy</th>\n",
       "      <th>return</th>\n",
       "    </tr>\n",
       "  </thead>\n",
       "  <tbody>\n",
       "    <tr>\n",
       "      <th>0</th>\n",
       "      <td>1</td>\n",
       "      <td>1</td>\n",
       "      <td>0</td>\n",
       "      <td>1</td>\n",
       "    </tr>\n",
       "    <tr>\n",
       "      <th>1</th>\n",
       "      <td>1</td>\n",
       "      <td>1</td>\n",
       "      <td>1</td>\n",
       "      <td>1</td>\n",
       "    </tr>\n",
       "  </tbody>\n",
       "</table>\n",
       "</div>"
      ],
      "text/plain": [
       "   bad  great  happy  return\n",
       "0    1      1      0       1\n",
       "1    1      1      1       1"
      ]
     },
     "execution_count": 4,
     "metadata": {},
     "output_type": "execute_result"
    }
   ],
   "source": [
    "# Creating DataFrames and adding output column\n",
    "pos_df = pd.DataFrame(pos_tf, columns=desc_features)\n",
    "pos_df['output'] = 'positive'\n",
    "\n",
    "neg_df = pd.DataFrame(neg_tf, columns=desc_features)\n",
    "neg_df['output'] = 'negative'\n",
    "\n",
    "# Combining positive and negative DataFrames\n",
    "X_train = pd.concat([pos_df[desc_features], neg_df[desc_features]]).reset_index(drop=True)\n",
    "y_train = pd.concat([pos_df['output'], neg_df['output']]).reset_index(drop=True)\n",
    "\n",
    "X_test = pd.DataFrame(test_tf, columns=desc_features)\n",
    "X_test.head()"
   ]
  },
  {
   "cell_type": "code",
   "execution_count": 5,
   "id": "b14e853c",
   "metadata": {},
   "outputs": [
    {
     "name": "stdout",
     "output_type": "stream",
     "text": [
      "['negative' 'positive']\n"
     ]
    }
   ],
   "source": [
    "# Fitting Multinomial Naïve Bayes model\n",
    "clf = MultinomialNB()\n",
    "clf.fit(X_train, y_train)\n",
    "\n",
    "# Testing Multinomial Naïve Bayes model\n",
    "y_pred = clf.predict(X_test)\n",
    "print(y_pred)"
   ]
  },
  {
   "cell_type": "code",
   "execution_count": null,
   "id": "36defeb4",
   "metadata": {},
   "outputs": [],
   "source": []
  }
 ],
 "metadata": {
  "kernelspec": {
   "display_name": "Python 3 (ipykernel)",
   "language": "python",
   "name": "python3"
  },
  "language_info": {
   "codemirror_mode": {
    "name": "ipython",
    "version": 3
   },
   "file_extension": ".py",
   "mimetype": "text/x-python",
   "name": "python",
   "nbconvert_exporter": "python",
   "pygments_lexer": "ipython3",
   "version": "3.9.7"
  }
 },
 "nbformat": 4,
 "nbformat_minor": 5
}
